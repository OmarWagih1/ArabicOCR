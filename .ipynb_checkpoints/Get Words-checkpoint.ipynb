{
 "cells": [
  {
   "cell_type": "code",
   "execution_count": 1,
   "metadata": {},
   "outputs": [],
   "source": [
    "#!/usr/bin/python3\n",
    "# 2018.01.16 01:11:49 CST\n",
    "# 2018.01.16 01:55:01 CST\n",
    "import cv2\n",
    "import numpy as np\n",
    "\n",
    "def getVertical(verticalHist,W):\n",
    "    righters = []\n",
    "    gotZero = False\n",
    "    for y in range(2,W-1):\n",
    "        if not(gotZero) and verticalHist[y-2]+verticalHist[y-1]+verticalHist[y] == 0:\n",
    "            righters.append(y)\n",
    "            gotZero = True\n",
    "        if verticalHist[y] != 0:\n",
    "            gotZero = False\n",
    "    for y in range(len(righters),1):\n",
    "        if righters[y]-15 < righters[y-1]:\n",
    "            del righters[y-1]\n",
    "    return righters\n",
    "\n",
    "def wordSegmentation(img,i):\n",
    "    os.mkdir(\"D:/Pattern Recognition/resultsSeparated/result\" + str(i))\n",
    "    img = cv2.imread(img)\n",
    "    image = img.copy()\n",
    "    gray = cv2.cvtColor(img, cv2.COLOR_BGR2GRAY)\n",
    "\n",
    "    ## (2) threshold\n",
    "    th, threshed = cv2.threshold(gray, 127, 255, cv2.THRESH_BINARY_INV|cv2.THRESH_OTSU)\n",
    "    ## (3) minAreaRect on the nozeros\n",
    "    pts = cv2.findNonZero(threshed)\n",
    "    ret = cv2.minAreaRect(pts)\n",
    "    (cx,cy), (w,h), ang = ret\n",
    "    if not(ang > -15):\n",
    "        ang += 90\n",
    "    ## (4) Find rotated matrix, do rotation\n",
    "    M = cv2.getRotationMatrix2D((cx,cy), ang, 1.0)\n",
    "    rotated = cv2.warpAffine(threshed, M, (img.shape[1], img.shape[0]))\n",
    "    ## (5) find and draw the upper and lower boundary of each lines\n",
    "    hist = cv2.reduce(rotated,1, cv2.REDUCE_AVG).reshape(-1)\n",
    "    th = 2\n",
    "    H,W = img.shape[:2]\n",
    "    uppers = [y for y in range(H-1) if hist[y]<=th and hist[y+1]>th]\n",
    "    lowers = [y for y in range(H-1) if hist[y]>th and hist[y+1]<=th]\n",
    "    image = cv2.warpAffine(image, M, (image.shape[1], image.shape[0]),borderValue=(255,255,255),flags=cv2.INTER_LANCZOS4)\n",
    "    wordSegmentation = []\n",
    "    for y in range(len(uppers)):\n",
    "        if (lowers[y] - uppers[y]) > 5:\n",
    "            line = rotated.copy()\n",
    "            line = line[uppers[y]-4:lowers[y]+4,0::]\n",
    "            H,W = line.shape[:2]\n",
    "            verticalHist = cv2.reduce(np.float32(line),0, cv2.REDUCE_SUM, cv2.CV_64F).reshape(-1)\n",
    "            righters = getVertical(verticalHist,W)\n",
    "            wordSegmentation.append(righters)\n",
    "        else:\n",
    "            wordSegmentation.append([])\n",
    "    rotated = cv2.cvtColor(rotated, cv2.COLOR_GRAY2BGR)\n",
    "    x = 0\n",
    "    for y in range(len(uppers)):\n",
    "        if (lowers[y] - uppers[y]) > 5:\n",
    "            for z in range(len(wordSegmentation[y])-1,0,-1):\n",
    "                sup = image[uppers[y]-4:lowers[y]+4,wordSegmentation[y][z-1]:wordSegmentation[y][z],:]\n",
    "                cv2.imwrite(\"D:/Pattern Recognition/resultsSeparated/result\"+str(i)+\"/result\"+str(x)+\".png\", sup)\n",
    "                x += 1"
   ]
  },
  {
   "cell_type": "code",
   "execution_count": 2,
   "metadata": {},
   "outputs": [],
   "source": [
    "## (1) read\n"
   ]
  },
  {
   "cell_type": "code",
   "execution_count": 3,
   "metadata": {},
   "outputs": [],
   "source": [
    "import glob, os\n",
    "import re\n",
    "numbers = re.compile(r'(\\d+)')\n",
    "def numericalSort(value):\n",
    "    parts = numbers.split(value)\n",
    "    parts[1::2] = map(int, parts[1::2])\n",
    "    return parts\n",
    "path = 'D:\\\\Pattern Recognition\\\\scanned'\n",
    "os.chdir(path)\n",
    "folders = []\n",
    "num = 0\n",
    "# r=root, d=directories, f = files\n",
    "for infile in sorted(glob.glob('*.png'), key=numericalSort):\n",
    "    wordSegmentation(str(infile),num)\n",
    "    num += 1      \n",
    "        "
   ]
  },
  {
   "cell_type": "code",
   "execution_count": null,
   "metadata": {},
   "outputs": [],
   "source": []
  },
  {
   "cell_type": "code",
   "execution_count": null,
   "metadata": {},
   "outputs": [],
   "source": []
  }
 ],
 "metadata": {
  "kernelspec": {
   "display_name": "Python 3",
   "language": "python",
   "name": "python3"
  },
  "language_info": {
   "codemirror_mode": {
    "name": "ipython",
    "version": 3
   },
   "file_extension": ".py",
   "mimetype": "text/x-python",
   "name": "python",
   "nbconvert_exporter": "python",
   "pygments_lexer": "ipython3",
   "version": "3.7.3"
  }
 },
 "nbformat": 4,
 "nbformat_minor": 2
}
