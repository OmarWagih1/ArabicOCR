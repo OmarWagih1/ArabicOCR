{
 "cells": [
  {
   "cell_type": "code",
   "execution_count": 22,
   "metadata": {},
   "outputs": [],
   "source": [
    "import cv2\n",
    "import os\n",
    "import numpy as np\n",
    "import pickle\n",
    "\n",
    "# Convolution:\n",
    "from scipy.signal import convolve2d\n",
    "from scipy import fftpack\n",
    "import math\n",
    "import scipy\n",
    "\n",
    "'''\n",
    "from numpy import pi\n",
    "from numpy import sin\n",
    "from numpy import zeros\n",
    "from numpy import r_\n",
    "from scipy import signal\n",
    "from scipy import misc # pip install Pillow\n",
    "import matplotlib.pylab as pylab\n",
    "\n",
    "'''\n",
    "\n",
    "from PIL import Image\n",
    "from sklearn.model_selection import train_test_split\n",
    "from sklearn.preprocessing import StandardScaler\n",
    "from sklearn.datasets import make_moons, make_circles, make_classification\n",
    "from sklearn.neural_network import MLPClassifier\n",
    "from sklearn.neighbors import KNeighborsClassifier\n",
    "from sklearn.svm import SVC\n",
    "from sklearn.gaussian_process import GaussianProcessClassifier\n",
    "from sklearn.gaussian_process.kernels import RBF\n",
    "from sklearn.tree import DecisionTreeClassifier\n",
    "from sklearn.ensemble import RandomForestClassifier, AdaBoostClassifier\n",
    "from sklearn.naive_bayes import GaussianNB\n",
    "from sklearn.discriminant_analysis import QuadraticDiscriminantAnalysis\n",
    "from sklearn.calibration import CalibratedClassifierCV"
   ]
  },
  {
   "cell_type": "markdown",
   "metadata": {},
   "source": [
    "# DCT Functions"
   ]
  },
  {
   "cell_type": "code",
   "execution_count": 23,
   "metadata": {},
   "outputs": [],
   "source": [
    "def dct2(a):\n",
    "    return scipy.fftpack.dct( scipy.fftpack.dct( a, axis=0, norm='ortho' ), axis=1, norm='ortho' )\n",
    "\n",
    "def idct2(a):\n",
    "    return scipy.fftpack.idct( scipy.fftpack.idct( a, axis=0 , norm='ortho'), axis=1 , norm='ortho')\n",
    "\n",
    "def zigzag(matrix,rows,columns):\n",
    "    zigzagArray = []\n",
    "    solution=[[] for i in range(rows+columns-1)] \n",
    "  \n",
    "    for i in range(rows): \n",
    "        for j in range(columns): \n",
    "            sum=i+j \n",
    "            if(sum%2 ==0): \n",
    "\n",
    "                #add at beginning \n",
    "                solution[sum].insert(0,matrix[i][j]) \n",
    "            else: \n",
    "\n",
    "                #add at end of the list \n",
    "                solution[sum].append(matrix[i][j])\n",
    "    for i in solution: \n",
    "        for j in i:\n",
    "            zigzagArray.append(j) \n",
    "          \n",
    "    return zigzagArray"
   ]
  },
  {
   "cell_type": "markdown",
   "metadata": {},
   "source": [
    "# Fiddle with Images"
   ]
  },
  {
   "cell_type": "code",
   "execution_count": 24,
   "metadata": {},
   "outputs": [],
   "source": [
    "def show_images(images,titles=None):\n",
    "    #This function is used to show image(s) with titles by sending an array of images and an array of associated titles.\n",
    "    # images[0] will be drawn with the title titles[0] if exists\n",
    "    # You aren't required to understand this function, use it as-is.\n",
    "    n_ims = len(images)\n",
    "    if titles is None: titles = ['(%d)' % i for i in range(1,n_ims + 1)]\n",
    "    fig = plt.figure()\n",
    "    n = 1\n",
    "    for image,title in zip(images,titles):\n",
    "        a = fig.add_subplot(1,n_ims,n)\n",
    "        if image.ndim == 2: \n",
    "            plt.gray()\n",
    "        plt.imshow(image)\n",
    "        a.set_title(title)\n",
    "        n += 1\n",
    "    fig.set_size_inches(np.array(fig.get_size_inches()) * n_ims)\n",
    "    plt.show() \n",
    "    \n",
    "def Crop_Image(img):\n",
    "    image=Image.open(img)\n",
    "    image.load()\n",
    "\n",
    "    image_data = np.asarray(image)\n",
    "    image_data_bw = image_data.max(axis=2)\n",
    "    non_empty_columns = np.where(image_data_bw.max(axis=0)>0)[0]\n",
    "    non_empty_rows = np.where(image_data_bw.max(axis=1)>0)[0]\n",
    "    cropBox = (min(non_empty_rows), max(non_empty_rows), min(non_empty_columns), max(non_empty_columns))\n",
    "\n",
    "    image_data_new = image_data[cropBox[0]:cropBox[1]+1, cropBox[2]:cropBox[3]+1 , :]\n",
    "\n",
    "    new_image = Image.fromarray(image_data_new)\n",
    "    return new_image\n",
    "\n",
    "\n",
    "\n",
    "def Reformat_Image(ImageFilePath):\n",
    "\n",
    "    from PIL import Image\n",
    "    image = Image.open(ImageFilePath, 'r')\n",
    "    image_size = image.size\n",
    "    width = image_size[0]\n",
    "    height = image_size[1]\n",
    "\n",
    "\n",
    "    background = Image.new('RGB', (32, 32), (255, 255, 255))\n",
    "    offset = (int(round(((32 - width) / 2), 0)), int(round(((32 - height) / 2),0)))\n",
    "\n",
    "    background.paste(image, offset)\n",
    "    background = np.asarray(background) \n",
    "    return background[:,:,0]"
   ]
  },
  {
   "cell_type": "markdown",
   "metadata": {},
   "source": [
    "# Get Your Data"
   ]
  },
  {
   "cell_type": "code",
   "execution_count": 25,
   "metadata": {},
   "outputs": [],
   "source": [
    "def Extract_Images(path):\n",
    "    Images = []\n",
    "    labels = []\n",
    "    th = 128\n",
    "    for file_name in os.listdir(path):\n",
    "        for pic in os.listdir(path+\"/\"+file_name):\n",
    "                resizedImg = Reformat_Image(path+\"/\"+file_name+\"/\"+pic)\n",
    "                binarizedImg = (resizedImg > th)\n",
    "                #npImg = npImg.flatten()\n",
    "                Images.append(binarizedImg)\n",
    "                labels.append(file_name)\n",
    "                \n",
    "    Images = np.asarray(Images)\n",
    "    labels = np.asarray(labels)\n",
    "    return Images,labels\n",
    "\n",
    "\n",
    "def Extract_Features_DCT(Images):\n",
    "    #show_images([Images[0]],[\"whatever\"])\n",
    "    Images_Features = []\n",
    "    for Img_Index in range(Images.shape[0]):\n",
    "            img = Images[Img_Index]\n",
    "            imgDCT = dct2(img)\n",
    "            rows,columns = imgDCT.shape\n",
    "            array = zigzag(imgDCT,rows,columns)\n",
    "            feature = array[:150:1]\n",
    "            Images_Features.append(feature)\n",
    "    Images_Features = np.asarray(Images_Features)\n",
    "    return Images_Features\n",
    "\n",
    "\n",
    "def Extract_Features_Img(Images):\n",
    "    Images_Features = []\n",
    "    for Img_Index in range(Images.shape[0]):\n",
    "            img = Images[Img_Index]\n",
    "            feature = img.flatten()\n",
    "            Images_Features.append(feature)\n",
    "    Images_Features = np.asarray(Images_Features)\n",
    "    return Images_Features"
   ]
  },
  {
   "cell_type": "markdown",
   "metadata": {},
   "source": [
    "# Write the File"
   ]
  },
  {
   "cell_type": "code",
   "execution_count": 67,
   "metadata": {},
   "outputs": [],
   "source": [
    "def Get_Labels(path):\n",
    "    labels = []\n",
    "    for file_name in os.listdir(path):\n",
    "        labels.append(str(file_name))\n",
    "    labels = np.asarray(labels)\n",
    "    return labels\n",
    "        \n",
    "def Write_File(name,accuracies,labels,spaces):\n",
    "    accuracies = np.asarray(accuracies)\n",
    "    with open(name+\".txt\",\"w\", encoding='utf-8') as file:\n",
    "        for index_of_letter in range(accuracies.shape[0]):\n",
    "            max_value = np.amax(accuracies[index_of_letter])\n",
    "            index_of_max_value = np.where(accuracies[index_of_letter] == max_value)[0][0] # GET THE INDEX OF THE MAXIMUM ELEMNT\n",
    "            written_letter = labels[index_of_max_value]\n",
    "            if(index_of_letter != 0):\n",
    "                if(spaces[index_of_letter] != spaces[index_of_letter - 1]):\n",
    "                    file.write(\" \")\n",
    "            file.write(written_letter)\n",
    "            \n",
    "        \n",
    "    "
   ]
  },
  {
   "cell_type": "markdown",
   "metadata": {},
   "source": [
    "# Read the testing data set "
   ]
  },
  {
   "cell_type": "code",
   "execution_count": 80,
   "metadata": {},
   "outputs": [],
   "source": [
    "def Read_Test_Data(path):\n",
    "    letters = []\n",
    "    spaces = []\n",
    "    words = 0\n",
    "    th = 125\n",
    "    for letter_name in os.listdir(path):\n",
    "        resizedImg = Reformat_Image(path+\"/\"+letter_name)\n",
    "        binarizedImg = (resizedImg > th)\n",
    "        letters.append(binarizedImg)\n",
    "        splitted_word = letter_name.split('l')\n",
    "        number = splitted_word[0][:4]\n",
    "        spaces.append(number)\n",
    "    letters = np.asarray(letters)\n",
    "    spaces = np.asarray(spaces)\n",
    "    return letters,spaces\n",
    "        \n",
    "        "
   ]
  },
  {
   "cell_type": "markdown",
   "metadata": {},
   "source": [
    "# Train Modules"
   ]
  },
  {
   "cell_type": "code",
   "execution_count": 47,
   "metadata": {},
   "outputs": [],
   "source": [
    "def Train(names,classifiers,X,y):\n",
    "    for name, clf in zip(names, classifiers):\n",
    "        clf = CalibratedClassifierCV(clf)\n",
    "        print(\"training classifier\",name)\n",
    "        clf.fit(X, y)\n",
    "        pickle.dump(clf, open(name, 'wb'))\n",
    "        #score = clf.score(X_test, y_test)\n",
    "        #Write_File(name,clf.predict_proba(X_test),data_set_labels)\n",
    "        #print(\"Score of classifier\",score)\n",
    "        return\n"
   ]
  },
  {
   "cell_type": "markdown",
   "metadata": {},
   "source": [
    "# Test Classifier"
   ]
  },
  {
   "cell_type": "code",
   "execution_count": 65,
   "metadata": {},
   "outputs": [],
   "source": [
    "def Classifier(model,X_test,data_set_labels,spaces):\n",
    "    loaded_model = pickle.load(open(model, 'rb'))\n",
    "    #loaded_model = CalibratedClassifierCV(loaded_model)\n",
    "    Write_File(model,loaded_model.predict_proba(X_test),data_set_labels,spaces)\n",
    "    return\n"
   ]
  },
  {
   "cell_type": "markdown",
   "metadata": {},
   "source": [
    "# CLassifiers"
   ]
  },
  {
   "cell_type": "code",
   "execution_count": 83,
   "metadata": {},
   "outputs": [
    {
     "name": "stdout",
     "output_type": "stream",
     "text": [
      "training classifier Neural Net\n"
     ]
    }
   ],
   "source": [
    "#h = .02  # step size in the mesh\n",
    "\n",
    "data_set_labels = Get_Labels(\"Letters\")\n",
    "\n",
    "names = [#\"Nearest Neighbors\", \"Linear SVM\", \"RBF SVM\",\n",
    "             \"Neural Net\"]#, \"Naive Bayes\"]\n",
    "\n",
    "classifiers = [\n",
    "       # KNeighborsClassifier(3),\n",
    "       # SVC(kernel=\"linear\", C=0.025),\n",
    "       # SVC(gamma=2, C=1),\n",
    "        MLPClassifier(alpha=1, max_iter=1000)]\n",
    "       # , GaussianNB()]\n",
    "\n",
    "\n",
    "#Training Data \n",
    "train_images,train_labels = Extract_Images(\"Letters\")\n",
    "train_features = Extract_Features_DCT(train_images)\n",
    "X_train,y_train = train_features,train_labels\n",
    "\n",
    "\n",
    "Train(names,classifiers,X_train,y_train)"
   ]
  },
  {
   "cell_type": "code",
   "execution_count": 84,
   "metadata": {},
   "outputs": [
    {
     "data": {
      "image/png": "[encoded data removed]",
      "text/plain": [
       "<Figure size 432x288 with 1 Axes>"
      ]
     },
     "metadata": {},
     "output_type": "display_data"
    }
   ],
   "source": [
    "#Test Data \n",
    "test_images,spaces = Read_Test_Data(\"D:\\\\CMP\\\\College\\\\4thYear\\\\Pattern Recognition\\\\Project\\\\Project\\\\output2\")\n",
    "show_images([test_images[0]],[\"whatever\"])\n",
    "test_features = Extract_Features_DCT(test_images)\n",
    "X_test = test_features\n",
    "Classifier(\"Neural Net\",X_test,Get_Labels(\"Letters\"),spaces)"
   ]
  },
  {
   "cell_type": "code",
   "execution_count": 85,
   "metadata": {},
   "outputs": [],
   "source": [
    "with open(r'Neural Net.txt', 'r', encoding='utf-8') as infile, \\\n",
    "     open(r'FinalOutput.txt', 'w', encoding='utf-8') as outfile:\n",
    "    data = infile.read()\n",
    "    data = data.replace(\"sss\", \"س\")\n",
    "    data = data.replace(\"s\",\"\")\n",
    "    data = data.replace(\"m\",\"\")\n",
    "    outfile.write(data)\n",
    "\n",
    "            "
   ]
  },
  {
   "cell_type": "code",
   "execution_count": null,
   "metadata": {},
   "outputs": [],
   "source": []
  }
 ],
 "metadata": {
  "kernelspec": {
   "display_name": "Python 3",
   "language": "python",
   "name": "python3"
  },
  "language_info": {
   "codemirror_mode": {
    "name": "ipython",
    "version": 3
   },
   "file_extension": ".py",
   "mimetype": "text/x-python",
   "name": "python",
   "nbconvert_exporter": "python",
   "pygments_lexer": "ipython3",
   "version": "3.6.6"
  }
 },
 "nbformat": 4,
 "nbformat_minor": 2
}
