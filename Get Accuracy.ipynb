{
 "cells": [
  {
   "cell_type": "code",
   "execution_count": 1,
   "metadata": {},
   "outputs": [],
   "source": [
    "import os, os.path\n",
    "os.chdir(\"D:/Pattern Recognition/text\")\n",
    "arr2 = []\n",
    "for i in range(1,20291):\n",
    "    f = open(\"result (\"+str(i)+\").txt\", encoding='utf-8')\n",
    "    arr2.append(len(f.read().split(\" \")))"
   ]
  },
  {
   "cell_type": "code",
   "execution_count": 2,
   "metadata": {},
   "outputs": [],
   "source": [
    "os.chdir(\"D:/Pattern Recognition/resultsSeparated\")\n",
    "# simple version for working with CWD\n",
    "arr = []\n",
    "for i in range(20290):\n",
    "    os.chdir(\"D:/Pattern Recognition/resultsSeparated/result\"+str(i))\n",
    "    arr.append(len([name for name in os.listdir('.') if os.path.isfile(name)]) )"
   ]
  },
  {
   "cell_type": "code",
   "execution_count": 3,
   "metadata": {},
   "outputs": [
    {
     "name": "stdout",
     "output_type": "stream",
     "text": [
      "2495 2473\n"
     ]
    }
   ],
   "source": [
    "print(arr[0],arr2[0])"
   ]
  },
  {
   "cell_type": "code",
   "execution_count": 4,
   "metadata": {},
   "outputs": [
    {
     "data": {
      "text/plain": [
       "99.95273766881407"
      ]
     },
     "execution_count": 4,
     "metadata": {},
     "output_type": "execute_result"
    }
   ],
   "source": [
    "import numpy as np\n",
    "arr = np.asarray(arr)\n",
    "arr2 = np.asarray(arr2)\n",
    "np.average(100 - (abs(arr-arr2)/arr) )\n"
   ]
  },
  {
   "cell_type": "code",
   "execution_count": null,
   "metadata": {},
   "outputs": [],
   "source": []
  }
 ],
 "metadata": {
  "kernelspec": {
   "display_name": "Python 3",
   "language": "python",
   "name": "python3"
  },
  "language_info": {
   "codemirror_mode": {
    "name": "ipython",
    "version": 3
   },
   "file_extension": ".py",
   "mimetype": "text/x-python",
   "name": "python",
   "nbconvert_exporter": "python",
   "pygments_lexer": "ipython3",
   "version": "3.6.3"
  }
 },
 "nbformat": 4,
 "nbformat_minor": 2
}
