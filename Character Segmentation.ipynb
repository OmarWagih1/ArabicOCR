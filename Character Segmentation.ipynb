{
 "cells": [
  {
   "cell_type": "code",
   "execution_count": 134,
   "metadata": {},
   "outputs": [],
   "source": [
    "'''\n",
    "def remove_dots(img, baseline, th, file_name): #th is the minimum number of pixels for it to not be a dot or hamza\n",
    "    desired_lower_region_size = 9\n",
    "    desired_higher_region_size = 15\n",
    "    top_region_size = baseline if baseline - desired_higher_region_size < 0 else desired_higher_region_size\n",
    "    bot_region_size = img.shape[0] - baseline + 1 if baseline + desired_lower_region_size + 1 > img.shape[0] else desired_lower_region_size\n",
    "    cropped_img = img[baseline - top_region_size: baseline + bot_region_size, :]\n",
    "    cv2.imwrite(file_name + '-cropped.png', cropped_img)\n",
    "    visited = np.zeros(cropped_img.shape)\n",
    "    for row in range(cropped_img.shape[0]):\n",
    "        for col in range(cropped_img.shape[1]):\n",
    "            if (cropped_img[row, col] != 255 or visited[row, col]):\n",
    "                continue\n",
    "            visited_copy = np.copy(visited)\n",
    "            count = dfs(cropped_img, row, col, visited, False)\n",
    "            print(count)\n",
    "            if count <= th:\n",
    "                _ = dfs(cropped_img, row, col, visited_copy, True)\n",
    "                img[baseline - top_region_size: baseline + bot_region_size, :] = cropped_img\n",
    "'''"
   ]
  },
  {
   "cell_type": "code",
   "execution_count": 170,
   "metadata": {},
   "outputs": [],
   "source": [
    "from math import pi, sqrt, exp\n",
    "\n",
    "def gauss(n=11,sigma=1):\n",
    "    r = range(-int(n/2),int(n/2)+1)\n",
    "    return [1 / (sigma * sqrt(2*pi)) * exp(-float(x)**2/(2*sigma**2)) for x in r]\n",
    "\n",
    "def convolve(img, kernel):\n",
    "    result = np.zeros(len(img))\n",
    "    half_width = len(kernel) // 2\n",
    "    for i in range(half_width, len(img) - half_width):\n",
    "        val = 0\n",
    "        for j in range(-half_width, half_width + 1):\n",
    "            val += img[i + j] * kernel [j + half_width]\n",
    "        result[i] = val\n",
    "    return result"
   ]
  },
  {
   "cell_type": "code",
   "execution_count": 256,
   "metadata": {},
   "outputs": [],
   "source": [
    "import cv2\n",
    "import numpy as np\n",
    "import numpy.ma as ma\n",
    "import os, glob, re\n",
    "import shutil\n",
    "from scipy.fftpack import dct, idct\n",
    "import matplotlib.pyplot as plt\n",
    "\n",
    "#from scipy import ndimage\n",
    "numbers = re.compile(r'(\\d+)')\n",
    "def numericalSort(value):\n",
    "    parts = numbers.split(value)\n",
    "    parts[1::2] = map(int, parts[1::2])\n",
    "    return parts\n",
    "results_path = 'C:/D/PDFS/College/4th year/1st term/Pattern Recognition/Project/Dataset/results'\n",
    "char_path = 'C:/D/PDFS/College/4th year/1st term/Pattern Recognition/Project/Dataset/chars'\n",
    "char_folder_path = 'C:/D/PDFS/College/4th year/1st term/Pattern Recognition/Project/Dataset/'\n",
    "\n",
    "dx = [-1, 1, 0, 0, 1, -1, 1, -1]\n",
    "dy = [0, 0, -1, 1, 1, -1, -1, 1]\n",
    "#dx = [-1, 1, 0, 0]\n",
    "#dy = [0, 0, -1, 1]"
   ]
  },
  {
   "cell_type": "code",
   "execution_count": 242,
   "metadata": {},
   "outputs": [],
   "source": [
    "def is_valid(row, col, img_shape):\n",
    "    if row < 0 or row >= img_shape[0] or col < 0 or col >= img_shape[1]:\n",
    "        return False\n",
    "    return True"
   ]
  },
  {
   "cell_type": "code",
   "execution_count": 251,
   "metadata": {},
   "outputs": [],
   "source": [
    "def dfs(img, row, col, visited, remove):\n",
    "    visited[row, col] = True\n",
    "    count = 1\n",
    "    for i in range(len(dx)):\n",
    "        new_row = row + dx[i]\n",
    "        new_col = col + dy[i]\n",
    "        if is_valid(new_row, new_col, img.shape) and not visited[new_row, new_col] and img[new_row, new_col] == 255:\n",
    "            new_count = dfs(img, new_row, new_col, visited, remove)\n",
    "            count += new_count\n",
    "    if remove:\n",
    "        img[row, col] = 0\n",
    "    return count"
   ]
  },
  {
   "cell_type": "code",
   "execution_count": 252,
   "metadata": {},
   "outputs": [],
   "source": [
    "def remove_dots(img, baseline, th, file_name): #th is the minimum number of pixels for it to not be a dot or hamza\n",
    "    visited = np.zeros(img.shape, dtype=bool)\n",
    "    for col in range(img.shape[1]):\n",
    "        if (img[baseline, col] != 255 or visited[baseline, col]):\n",
    "            continue\n",
    "        visited_copy = np.copy(visited)\n",
    "        count = dfs(img, baseline, col, visited, False)\n",
    "        if count <= th:\n",
    "            _ = dfs(img, baseline, col, visited_copy, True)\n",
    "    #cv2.imwrite(file_name+\"before.png\", img)\n",
    "    img = img == 255\n",
    "    return (np.logical_and(img, visited).astype('uint8')) * 255\n",
    "    #cv2.imwrite(file_name+'after.png', img)"
   ]
  },
  {
   "cell_type": "code",
   "execution_count": 261,
   "metadata": {},
   "outputs": [],
   "source": [
    "def segment_characters(img_name, folder_count, img_count):\n",
    "    file_name = char_path + '/' + str(folder) + '/result' + str(img_count) + '/' + 'result' + str(folder_count) + '-' + str(img_count)\n",
    "    img = cv2.imread(img_name, 0)  #0 parameter means read it in grayscale\n",
    "    _, img = cv2.threshold(img, 127, 255, cv2.THRESH_BINARY_INV|cv2.THRESH_OTSU)\n",
    "    img_copy = img.copy()\n",
    "    horizontal_profile = cv2.reduce(img, 1, cv2.REDUCE_SUM, dtype=cv2.CV_32S) #2nd param = 1 means row sum\n",
    "    baseline_idx = np.argmax(horizontal_profile)\n",
    "    dot_count_threshold = 6\n",
    "    no_dots_img = remove_dots(img_copy, baseline_idx, dot_count_threshold, file_name)\n",
    "    #no_dots_img = 255 - no_dots_img\n",
    "    cv2.imwrite(file_name + \"_no_dots.png\", no_dots_img)\n",
    "    vertical_profile = cv2.reduce(no_dots_img, 0, cv2.REDUCE_SUM, dtype=cv2.CV_32S)\n",
    "    #print(vertical_profile)\n",
    "    #result = convolve(vertical_profile[0], gauss(3, 0.1))\n",
    "    #result = convolve(vertical_profile[0], [-1, -2, 0, 2, 1])\n",
    "    #print(np.fft.fft(vertical_profile)[0][0:4])\n",
    "    #print(vertical_profile[0][10:30])\n",
    "    #idk = idct(dct(vertical_profile)[0][0:2], 2, n=len(vertical_profile[0]))\n",
    "    #result = convolve(idk, [-1, 0, 1])\n",
    "    results = np.abs(convolve(vertical_profile[0], [-1, 0, 1]))\n",
    "    mask = np.zeros(len(results) - 1, dtype=bool)\n",
    "    #print(result)\n",
    "    mask = results <= 255\n",
    "    for i in range(len(results) - 1):\n",
    "        if mask[i] == True and mask[i+1] == True:\n",
    "            mask[i] = False\n",
    "    #print(result[mask])\n",
    "    '''\n",
    "    for i in range(len(vertical_profile[0]) - 1):\n",
    "        if vertical_profile[0][i] == vertical_profile[0][i + 1]:\n",
    "            cv2.line(img, (i, 0), (i, img.shape[0]), (255,0,0), 1)\n",
    "    '''\n",
    "    verticals = np.argwhere(mask == True)\n",
    "    for x in verticals:\n",
    "        cv2.line(img, (x[0], 0), (x[0], img.shape[0]), (255,0,0), 1)\n",
    "    #print('result of convolution:')\n",
    "    #print(result)\n",
    "    cv2.imwrite(file_name + \".png\", img)"
   ]
  },
  {
   "cell_type": "code",
   "execution_count": 262,
   "metadata": {},
   "outputs": [
    {
     "name": "stdout",
     "output_type": "stream",
     "text": [
      "result1\n",
      "result0.png\n"
     ]
    },
    {
     "ename": "NameError",
     "evalue": "name 'results' is not defined",
     "output_type": "error",
     "traceback": [
      "\u001b[1;31m---------------------------------------------------------------------------\u001b[0m",
      "\u001b[1;31mNameError\u001b[0m                                 Traceback (most recent call last)",
      "\u001b[1;32m<ipython-input-262-92bb6de60fe1>\u001b[0m in \u001b[0;36m<module>\u001b[1;34m\u001b[0m\n\u001b[0;32m     14\u001b[0m         \u001b[0mos\u001b[0m\u001b[1;33m.\u001b[0m\u001b[0mmkdir\u001b[0m\u001b[1;33m(\u001b[0m\u001b[0mchar_path\u001b[0m \u001b[1;33m+\u001b[0m \u001b[1;34m'/'\u001b[0m \u001b[1;33m+\u001b[0m \u001b[0mstr\u001b[0m\u001b[1;33m(\u001b[0m\u001b[0mfolder\u001b[0m\u001b[1;33m)\u001b[0m \u001b[1;33m+\u001b[0m \u001b[1;34m'/result'\u001b[0m \u001b[1;33m+\u001b[0m \u001b[0mstr\u001b[0m\u001b[1;33m(\u001b[0m\u001b[0mimg_count\u001b[0m\u001b[1;33m)\u001b[0m\u001b[1;33m)\u001b[0m\u001b[1;33m\u001b[0m\u001b[1;33m\u001b[0m\u001b[0m\n\u001b[0;32m     15\u001b[0m         \u001b[0mprint\u001b[0m\u001b[1;33m(\u001b[0m\u001b[0mimg_name\u001b[0m\u001b[1;33m)\u001b[0m\u001b[1;33m\u001b[0m\u001b[1;33m\u001b[0m\u001b[0m\n\u001b[1;32m---> 16\u001b[1;33m         \u001b[0msegment_characters\u001b[0m\u001b[1;33m(\u001b[0m\u001b[0mimg_name\u001b[0m\u001b[1;33m,\u001b[0m \u001b[0mfolder_count\u001b[0m\u001b[1;33m,\u001b[0m \u001b[0mimg_count\u001b[0m\u001b[1;33m)\u001b[0m\u001b[1;33m\u001b[0m\u001b[1;33m\u001b[0m\u001b[0m\n\u001b[0m\u001b[0;32m     17\u001b[0m     \u001b[0mos\u001b[0m\u001b[1;33m.\u001b[0m\u001b[0mchdir\u001b[0m\u001b[1;33m(\u001b[0m\u001b[1;34m'..'\u001b[0m\u001b[1;33m)\u001b[0m\u001b[1;33m\u001b[0m\u001b[1;33m\u001b[0m\u001b[0m\n",
      "\u001b[1;32m<ipython-input-261-fdec21c688a1>\u001b[0m in \u001b[0;36msegment_characters\u001b[1;34m(img_name, folder_count, img_count)\u001b[0m\n\u001b[0;32m     23\u001b[0m     \u001b[0mplt\u001b[0m\u001b[1;33m.\u001b[0m\u001b[0mplot\u001b[0m\u001b[1;33m(\u001b[0m\u001b[0mresults1\u001b[0m\u001b[1;33m)\u001b[0m\u001b[1;33m\u001b[0m\u001b[1;33m\u001b[0m\u001b[0m\n\u001b[0;32m     24\u001b[0m     \u001b[0mplt\u001b[0m\u001b[1;33m.\u001b[0m\u001b[0mplot\u001b[0m\u001b[1;33m(\u001b[0m\u001b[0mresults2\u001b[0m\u001b[1;33m)\u001b[0m\u001b[1;33m\u001b[0m\u001b[1;33m\u001b[0m\u001b[0m\n\u001b[1;32m---> 25\u001b[1;33m     \u001b[0mmask\u001b[0m \u001b[1;33m=\u001b[0m \u001b[0mnp\u001b[0m\u001b[1;33m.\u001b[0m\u001b[0mzeros\u001b[0m\u001b[1;33m(\u001b[0m\u001b[0mlen\u001b[0m\u001b[1;33m(\u001b[0m\u001b[0mresults\u001b[0m\u001b[1;33m)\u001b[0m \u001b[1;33m-\u001b[0m \u001b[1;36m1\u001b[0m\u001b[1;33m,\u001b[0m \u001b[0mdtype\u001b[0m\u001b[1;33m=\u001b[0m\u001b[0mbool\u001b[0m\u001b[1;33m)\u001b[0m\u001b[1;33m\u001b[0m\u001b[1;33m\u001b[0m\u001b[0m\n\u001b[0m\u001b[0;32m     26\u001b[0m     \u001b[1;31m#print(result)\u001b[0m\u001b[1;33m\u001b[0m\u001b[1;33m\u001b[0m\u001b[1;33m\u001b[0m\u001b[0m\n\u001b[0;32m     27\u001b[0m     \u001b[0mmask\u001b[0m \u001b[1;33m=\u001b[0m \u001b[0mresults1\u001b[0m \u001b[1;33m<=\u001b[0m \u001b[1;36m255\u001b[0m\u001b[1;33m\u001b[0m\u001b[1;33m\u001b[0m\u001b[0m\n",
      "\u001b[1;31mNameError\u001b[0m: name 'results' is not defined"
     ]
    },
    {
     "data": {
      "image/png": "[encoded data removed]",
      "text/plain": [
       "<Figure size 432x288 with 1 Axes>"
      ]
     },
     "metadata": {
      "needs_background": "light"
     },
     "output_type": "display_data"
    }
   ],
   "source": [
    "if os.path.exists(char_folder_path + 'chars'):\n",
    "    shutil.rmtree(char_folder_path + 'chars', ignore_errors=True)\n",
    "os.mkdir(char_folder_path + 'chars')\n",
    "os.chdir(results_path)\n",
    "for folder_count, folder in enumerate(os.listdir()):\n",
    "    if (folder_count >= 1):\n",
    "        break\n",
    "    os.mkdir(char_path + '/' + str(folder))\n",
    "    print(folder)\n",
    "    os.chdir(folder)\n",
    "    for img_count, img_name in enumerate(sorted(os.listdir(), key=numericalSort)):\n",
    "        if (img_count >= 20):\n",
    "            break\n",
    "        os.mkdir(char_path + '/' + str(folder) + '/result' + str(img_count))\n",
    "        print(img_name)\n",
    "        segment_characters(img_name, folder_count, img_count)\n",
    "    os.chdir('..')"
   ]
  },
  {
   "cell_type": "code",
   "execution_count": 224,
   "metadata": {},
   "outputs": [],
   "source": [
    "zz = np.array([[False ,True], [False, False]])\n",
    "bb = np.array([[255, 255], [255, 255]])"
   ]
  },
  {
   "cell_type": "code",
   "execution_count": 158,
   "metadata": {},
   "outputs": [],
   "source": [
    "def zzz(z, b):\n",
    "    return ma.masked_array(b, z).data"
   ]
  },
  {
   "cell_type": "code",
   "execution_count": 212,
   "metadata": {},
   "outputs": [
    {
     "data": {
      "text/plain": [
       "array([[255, 255],\n",
       "       [255, 255]])"
      ]
     },
     "execution_count": 212,
     "metadata": {},
     "output_type": "execute_result"
    }
   ],
   "source": [
    "zzz(zz, bb)"
   ]
  },
  {
   "cell_type": "code",
   "execution_count": 257,
   "metadata": {},
   "outputs": [
    {
     "data": {
      "text/plain": [
       "array([[510.+0.j,   0.+0.j],\n",
       "       [510.+0.j,   0.+0.j]])"
      ]
     },
     "execution_count": 257,
     "metadata": {},
     "output_type": "execute_result"
    }
   ],
   "source": [
    "np.fft.fft(bb)"
   ]
  },
  {
   "cell_type": "code",
   "execution_count": null,
   "metadata": {},
   "outputs": [],
   "source": []
  }
 ],
 "metadata": {
  "kernelspec": {
   "display_name": "Python 3",
   "language": "python",
   "name": "python3"
  },
  "language_info": {
   "codemirror_mode": {
    "name": "ipython",
    "version": 3
   },
   "file_extension": ".py",
   "mimetype": "text/x-python",
   "name": "python",
   "nbconvert_exporter": "python",
   "pygments_lexer": "ipython3",
   "version": "3.7.3"
  }
 },
 "nbformat": 4,
 "nbformat_minor": 2
}
