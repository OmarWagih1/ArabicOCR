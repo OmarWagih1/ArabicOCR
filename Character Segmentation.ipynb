{
 "cells": [
  {
   "cell_type": "code",
   "execution_count": 134,
   "metadata": {},
   "outputs": [],
   "source": [
    "'''\n",
    "def remove_dots(img, baseline, th, file_name): #th is the minimum number of pixels for it to not be a dot or hamza\n",
    "    desired_lower_region_size = 9\n",
    "    desired_higher_region_size = 15\n",
    "    top_region_size = baseline if baseline - desired_higher_region_size < 0 else desired_higher_region_size\n",
    "    bot_region_size = img.shape[0] - baseline + 1 if baseline + desired_lower_region_size + 1 > img.shape[0] else desired_lower_region_size\n",
    "    cropped_img = img[baseline - top_region_size: baseline + bot_region_size, :]\n",
    "    cv2.imwrite(file_name + '-cropped.png', cropped_img)\n",
    "    visited = np.zeros(cropped_img.shape)\n",
    "    for row in range(cropped_img.shape[0]):\n",
    "        for col in range(cropped_img.shape[1]):\n",
    "            if (cropped_img[row, col] != 255 or visited[row, col]):\n",
    "                continue\n",
    "            visited_copy = np.copy(visited)\n",
    "            count = dfs(cropped_img, row, col, visited, False)\n",
    "            print(count)\n",
    "            if count <= th:\n",
    "                _ = dfs(cropped_img, row, col, visited_copy, True)\n",
    "                img[baseline - top_region_size: baseline + bot_region_size, :] = cropped_img\n",
    "'''"
   ]
  },
  {
   "cell_type": "code",
   "execution_count": 161,
   "metadata": {},
   "outputs": [],
   "source": [
    "import cv2\n",
    "import numpy as np\n",
    "import numpy.ma as ma\n",
    "import os, glob, re\n",
    "import shutil\n",
    "numbers = re.compile(r'(\\d+)')\n",
    "def numericalSort(value):\n",
    "    parts = numbers.split(value)\n",
    "    parts[1::2] = map(int, parts[1::2])\n",
    "    return parts\n",
    "results_path = 'C:/D/PDFS/College/4th year/1st term/Pattern Recognition/Project/Dataset/results'\n",
    "char_path = 'C:/D/PDFS/College/4th year/1st term/Pattern Recognition/Project/Dataset/chars'\n",
    "char_folder_path = 'C:/D/PDFS/College/4th year/1st term/Pattern Recognition/Project/Dataset/'\n",
    "\n",
    "dx = [-1, 1, 0, 0, 1, -1, 1, -1]\n",
    "dy = [0, 0, -1, 1, 1, -1, -1, 1]\n",
    "#dx = [-1, 1, 0, 0]\n",
    "#dy = [0, 0, -1, 1]"
   ]
  },
  {
   "cell_type": "code",
   "execution_count": 162,
   "metadata": {},
   "outputs": [],
   "source": [
    "def is_valid(row, col, img_shape):\n",
    "    if row < 0 or row >= img_shape[0] or col < 0 or col >= img_shape[1]:\n",
    "        return False\n",
    "    return True"
   ]
  },
  {
   "cell_type": "code",
   "execution_count": 190,
   "metadata": {},
   "outputs": [],
   "source": [
    "def dfs(img, row, col, visited, remove):\n",
    "    visited[row, col] = True\n",
    "    count = 1\n",
    "    for i in range(len(dx)):\n",
    "        new_row = row + dx[i]\n",
    "        new_col = col + dy[i]\n",
    "        if is_valid(new_row, new_col, img.shape) and not visited[new_row, new_col] and img[new_row, new_col] == 255:\n",
    "            new_count = dfs(img, new_row, new_col, visited, remove)\n",
    "            count += new_count\n",
    "    if remove:\n",
    "        img[row, col] = 0\n",
    "    return count"
   ]
  },
  {
   "cell_type": "code",
   "execution_count": 238,
   "metadata": {},
   "outputs": [],
   "source": [
    "def remove_dots(img, baseline, th, file_name): #th is the minimum number of pixels for it to not be a dot or hamza\n",
    "    visited = np.zeros(img.shape, dtype=bool)\n",
    "    for col in range(img.shape[1]):\n",
    "        if (img[baseline, col] != 255 or visited[baseline, col]):\n",
    "            continue\n",
    "        visited_copy = np.copy(visited)\n",
    "        count = dfs(img, baseline, col, visited, False)\n",
    "        if count <= th:\n",
    "            _ = dfs(img, baseline, col, visited_copy, True)\n",
    "    #cv2.imwrite(file_name+\"before.png\", img)\n",
    "    img = img == 255\n",
    "    return (np.logical_and(img, visited).astype(int)) * 255\n",
    "    #cv2.imwrite(file_name+'after.png', img)"
   ]
  },
  {
   "cell_type": "code",
   "execution_count": 239,
   "metadata": {},
   "outputs": [],
   "source": [
    "def segment_characters(img_name, folder_count, img_count):\n",
    "    file_name = char_path + '/' + str(folder) + '/result' + str(img_count) + '/' + 'result' + str(folder_count) + '-' + str(img_count)\n",
    "    img = cv2.imread(img_name, 0)  #0 parameter means read it in grayscale\n",
    "    _, img = cv2.threshold(img, 127, 255, cv2.THRESH_BINARY_INV|cv2.THRESH_OTSU)\n",
    "    img_copy = img.copy()\n",
    "    horizontal_profile = cv2.reduce(img, 1, cv2.REDUCE_SUM, dtype=cv2.CV_32S) #2nd param = 1 means row sum\n",
    "    baseline_idx = np.argmax(vertical_profile)\n",
    "    dot_count_threshold = 6\n",
    "    no_dots_img = remove_dots(img_copy, baseline_idx, dot_count_threshold, file_name)\n",
    "    vortical_profile = cv2.reduce(no_dots_img, 0, cv2.REDUCE_SUM, dtype=cv2.CV_32S)\n",
    "    cv2.imwrite(file_name + \"_no_dots.png\", img_copy)\n",
    "    cv2.imwrite(file_name + \".png\", img)"
   ]
  },
  {
   "cell_type": "code",
   "execution_count": 241,
   "metadata": {},
   "outputs": [
    {
     "name": "stdout",
     "output_type": "stream",
     "text": [
      "result1\n",
      "result0.png\n",
      "(24, 42)\n",
      "result1.png\n",
      "(24, 39)\n",
      "result2.png\n",
      "(24, 81)\n",
      "result3.png\n",
      "(24, 57)\n",
      "result4.png\n",
      "(24, 28)\n",
      "result5.png\n",
      "(24, 50)\n",
      "result6.png\n",
      "(24, 44)\n",
      "result7.png\n",
      "(24, 33)\n",
      "result8.png\n",
      "(24, 37)\n",
      "result9.png\n",
      "(24, 50)\n",
      "result10.png\n",
      "(24, 45)\n",
      "result11.png\n",
      "(24, 52)\n",
      "result12.png\n",
      "(24, 49)\n",
      "result13.png\n",
      "(24, 65)\n",
      "result14.png\n",
      "(26, 49)\n",
      "result15.png\n",
      "(26, 41)\n",
      "result16.png\n",
      "(26, 50)\n",
      "result17.png\n",
      "(26, 45)\n",
      "result18.png\n",
      "(26, 66)\n",
      "result19.png\n",
      "(26, 19)\n"
     ]
    }
   ],
   "source": [
    "if os.path.exists(char_folder_path + 'chars'):\n",
    "    shutil.rmtree(char_folder_path + 'chars', ignore_errors=True)\n",
    "os.mkdir(char_folder_path + 'chars')\n",
    "os.chdir(results_path)\n",
    "for folder_count, folder in enumerate(os.listdir()):\n",
    "    if (folder_count >= 1):\n",
    "        break\n",
    "    os.mkdir(char_path + '/' + str(folder))\n",
    "    print(folder)\n",
    "    os.chdir(folder)\n",
    "    for img_count, img_name in enumerate(sorted(os.listdir(), key=numericalSort)):\n",
    "        if (img_count >= 20):\n",
    "            break\n",
    "        os.mkdir(char_path + '/' + str(folder) + '/result' + str(img_count))\n",
    "        print(img_name)\n",
    "        segment_characters(img_name, folder_count, img_count)\n",
    "    os.chdir('..')"
   ]
  },
  {
   "cell_type": "code",
   "execution_count": 233,
   "metadata": {},
   "outputs": [],
   "source": [
    "zz = np.array([[False ,True], [False, False]])\n",
    "bb = np.array([[255, 255], [255, 255]])"
   ]
  },
  {
   "cell_type": "code",
   "execution_count": 211,
   "metadata": {},
   "outputs": [],
   "source": [
    "def zzz(z, b):\n",
    "    return ma.masked_array(b, z).data"
   ]
  },
  {
   "cell_type": "code",
   "execution_count": 212,
   "metadata": {},
   "outputs": [
    {
     "data": {
      "text/plain": [
       "array([[255, 255],\n",
       "       [255, 255]])"
      ]
     },
     "execution_count": 212,
     "metadata": {},
     "output_type": "execute_result"
    }
   ],
   "source": [
    "zzz(zz, bb)"
   ]
  },
  {
   "cell_type": "code",
   "execution_count": null,
   "metadata": {},
   "outputs": [],
   "source": []
  },
  {
   "cell_type": "code",
   "execution_count": null,
   "metadata": {},
   "outputs": [],
   "source": []
  }
 ],
 "metadata": {
  "kernelspec": {
   "display_name": "Python 3",
   "language": "python",
   "name": "python3"
  },
  "language_info": {
   "codemirror_mode": {
    "name": "ipython",
    "version": 3
   },
   "file_extension": ".py",
   "mimetype": "text/x-python",
   "name": "python",
   "nbconvert_exporter": "python",
   "pygments_lexer": "ipython3",
   "version": "3.7.3"
  }
 },
 "nbformat": 4,
 "nbformat_minor": 2
}
